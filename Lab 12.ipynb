{
 "cells": [
  {
   "cell_type": "code",
   "execution_count": 1,
   "id": "599175f5",
   "metadata": {},
   "outputs": [],
   "source": [
    "import math\n",
    "import numpy as np\n",
    "import pandas as pd\n",
    "# This line allows plots to show in the Jupyter notebook\n",
    "%matplotlib inline\n",
    "import matplotlib.pyplot as plt\n",
    "import io\n",
    "import requests"
   ]
  },
  {
   "cell_type": "code",
   "execution_count": 4,
   "id": "085c0dfc",
   "metadata": {},
   "outputs": [],
   "source": [
    "thoriumDataPY = pd.read_csv(\"thoriumRad1\")\n",
    "thoriumDataGiven = pd.read_csv(\"Thorium_2021-11-10_D3S.csv\")\n",
    "unknownDataPY = pd.read_csv(\"sourceRad\")\n",
    "unknownDataGiven = pd.read_csv(\"unknown_2021-11-10_D3S.csv\")"
   ]
  },
  {
   "cell_type": "code",
   "execution_count": 6,
   "id": "c778cd55",
   "metadata": {},
   "outputs": [
    {
     "data": {
      "image/png": "[encoded data removed]",
      "text/plain": [
       "<Figure size 432x288 with 1 Axes>"
      ]
     },
     "metadata": {
      "needs_background": "light"
     },
     "output_type": "display_data"
    }
   ],
   "source": [
    "plt.hist(thoriumDataPY[\"counts\"], bins = 7)\n",
    "plt.show()"
   ]
  },
  {
   "cell_type": "code",
   "execution_count": 7,
   "id": "ae862aa3",
   "metadata": {},
   "outputs": [
    {
     "name": "stdout",
     "output_type": "stream",
     "text": [
      "13.142857142857142\n",
      "6.266203485560374\n",
      "percent uncertainty: 10.425720702853738\n",
      "relative uncertainty: 92 +/- 9.59166304662544\n"
     ]
    }
   ],
   "source": [
    "meanThoriumPY = np.mean(thoriumDataPY['counts'])\n",
    "stdThoriumPY = np.std(thoriumDataPY['counts'])\n",
    "sumThoriumPY = np.sum(thoriumDataPY['counts'])\n",
    "uncertThoriumPY = np.sqrt(sumThoriumPY)\n",
    "percThoriumPY = (1/uncertThoriumPY)*100\n",
    "print(meanThoriumPY)\n",
    "print(stdThoriumPY)\n",
    "print(\"percent uncertainty:\", percThoriumPY)\n",
    "print(\"relative uncertainty:\", sumThoriumPY, \"+/-\", ((percThoriumPY/100)*sumThoriumPY))"
   ]
  },
  {
   "cell_type": "code",
   "execution_count": 13,
   "id": "2eb1da1c",
   "metadata": {},
   "outputs": [
    {
     "data": {
      "image/png": "[encoded data removed]",
      "text/plain": [
       "<Figure size 432x288 with 1 Axes>"
      ]
     },
     "metadata": {
      "needs_background": "light"
     },
     "output_type": "display_data"
    }
   ],
   "source": [
    "plt.hist(unknownDataPY[\"counts\"], bins = 7)\n",
    "plt.show()"
   ]
  },
  {
   "cell_type": "code",
   "execution_count": 14,
   "id": "5813704d",
   "metadata": {},
   "outputs": [
    {
     "name": "stdout",
     "output_type": "stream",
     "text": [
      "24.714285714285715\n",
      "11.157499537009507\n",
      "percent uncertainty: 7.602859212697055\n",
      "relative uncertainty: 173 +/- 13.152946437965905\n"
     ]
    }
   ],
   "source": [
    "meanUnknownPY = np.mean(unknownDataPY['counts'])\n",
    "stdUnknownPY = np.std(unknownDataPY['counts'])\n",
    "sumUnknownPY = np.sum(unknownDataPY['counts'])\n",
    "uncertUnknownPY = np.sqrt(sumUnknownPY)\n",
    "percUnknownPY = (1/uncertUnknownPY)*100\n",
    "print(meanUnknownPY)\n",
    "print(stdUnknownPY)\n",
    "print(\"percent uncertainty:\", percUnknownPY)\n",
    "print(\"relative uncertainty:\", sumUnknownPY, \"+/-\", ((percUnknownPY/100)*sumUnknownPY))"
   ]
  },
  {
   "cell_type": "markdown",
   "id": "d0b6d4cd",
   "metadata": {},
   "source": [
    "The standard deviation for the unknown data was higher than the thorium. Thorium has a higher percent uncertainty than the unknown"
   ]
  },
  {
   "cell_type": "code",
   "execution_count": 16,
   "id": "34480247",
   "metadata": {},
   "outputs": [
    {
     "name": "stdout",
     "output_type": "stream",
     "text": [
      "1.5333333333333334\n",
      "0.0001253030426847539\n"
     ]
    }
   ],
   "source": [
    "ThoriumActivity = sumThoriumPY/60\n",
    "thoriumEfficience = ThoriumActivity/12237\n",
    "print(ThoriumActivity)\n",
    "print(thoriumEfficience)"
   ]
  },
  {
   "cell_type": "code",
   "execution_count": 17,
   "id": "fc83b877",
   "metadata": {},
   "outputs": [
    {
     "name": "stdout",
     "output_type": "stream",
     "text": [
      "12.903453816013972 % on the efficinecy of the scintillator detector\n"
     ]
    }
   ],
   "source": [
    "relPercent = np.sqrt(((uncertUnknownPY/sumUnknownPY)**2)+((uncertThoriumPY/sumThoriumPY)**2))*100\n",
    "uncert = relPercent/100\n",
    "print(relPercent, \"% on the efficinecy of the scintillator detector\")"
   ]
  },
  {
   "cell_type": "markdown",
   "id": "272432e1",
   "metadata": {},
   "source": [
    "The uncertainties would be less because there would be more datas meaning more experiments. The mean should also be similar and the uncertainty of the activity should be the same."
   ]
  }
 ],
 "metadata": {
  "kernelspec": {
   "display_name": "Python 3",
   "language": "python",
   "name": "python3"
  },
  "language_info": {
   "codemirror_mode": {
    "name": "ipython",
    "version": 3
   },
   "file_extension": ".py",
   "mimetype": "text/x-python",
   "name": "python",
   "nbconvert_exporter": "python",
   "pygments_lexer": "ipython3",
   "version": "3.8.8"
  }
 },
 "nbformat": 4,
 "nbformat_minor": 5
}
