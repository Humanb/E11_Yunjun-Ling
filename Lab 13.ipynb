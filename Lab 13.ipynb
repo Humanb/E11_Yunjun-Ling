{
 "cells": [
  {
   "cell_type": "code",
   "execution_count": 12,
   "id": "ff15ef1d",
   "metadata": {},
   "outputs": [],
   "source": [
    "import math\n",
    "import numpy as np\n",
    "import pandas as pd\n",
    "# This line allows plots to show in the Jupyter notebook\n",
    "%matplotlib inline\n",
    "import matplotlib.pyplot as plt\n",
    "import io\n",
    "import requests\n",
    "realData = pd.read_csv('GPS_GUI_Data_2021-11-17.csv')\n",
    "givenData = pd.read_csv('Map-data-0.csv')"
   ]
  },
  {
   "cell_type": "code",
   "execution_count": 13,
   "id": "f1be5aa2",
   "metadata": {},
   "outputs": [
    {
     "data": {
      "text/html": [
       "<div>\n",
       "<style scoped>\n",
       "    .dataframe tbody tr th:only-of-type {\n",
       "        vertical-align: middle;\n",
       "    }\n",
       "\n",
       "    .dataframe tbody tr th {\n",
       "        vertical-align: top;\n",
       "    }\n",
       "\n",
       "    .dataframe thead th {\n",
       "        text-align: right;\n",
       "    }\n",
       "</style>\n",
       "<table border=\"1\" class=\"dataframe\">\n",
       "  <thead>\n",
       "    <tr style=\"text-align: right;\">\n",
       "      <th></th>\n",
       "      <th>Epoch time</th>\n",
       "      <th>Latitude</th>\n",
       "      <th>Longitude</th>\n",
       "      <th>Air Quality PM 2.5 (ug/m3)</th>\n",
       "      <th>Radiation (cps)</th>\n",
       "    </tr>\n",
       "  </thead>\n",
       "  <tbody>\n",
       "    <tr>\n",
       "      <th>0</th>\n",
       "      <td>1.630638e+09</td>\n",
       "      <td>0</td>\n",
       "      <td>0</td>\n",
       "      <td>2.0</td>\n",
       "      <td>31.6</td>\n",
       "    </tr>\n",
       "    <tr>\n",
       "      <th>1</th>\n",
       "      <td>1.630638e+09</td>\n",
       "      <td>0</td>\n",
       "      <td>0</td>\n",
       "      <td>3.0</td>\n",
       "      <td>30.6</td>\n",
       "    </tr>\n",
       "    <tr>\n",
       "      <th>2</th>\n",
       "      <td>1.630638e+09</td>\n",
       "      <td>0</td>\n",
       "      <td>0</td>\n",
       "      <td>3.0</td>\n",
       "      <td>30.0</td>\n",
       "    </tr>\n",
       "    <tr>\n",
       "      <th>3</th>\n",
       "      <td>1.630638e+09</td>\n",
       "      <td>0</td>\n",
       "      <td>0</td>\n",
       "      <td>3.0</td>\n",
       "      <td>30.0</td>\n",
       "    </tr>\n",
       "    <tr>\n",
       "      <th>4</th>\n",
       "      <td>1.630638e+09</td>\n",
       "      <td>0</td>\n",
       "      <td>0</td>\n",
       "      <td>2.0</td>\n",
       "      <td>34.6</td>\n",
       "    </tr>\n",
       "    <tr>\n",
       "      <th>...</th>\n",
       "      <td>...</td>\n",
       "      <td>...</td>\n",
       "      <td>...</td>\n",
       "      <td>...</td>\n",
       "      <td>...</td>\n",
       "    </tr>\n",
       "    <tr>\n",
       "      <th>243</th>\n",
       "      <td>1.630641e+09</td>\n",
       "      <td>0</td>\n",
       "      <td>0</td>\n",
       "      <td>5.0</td>\n",
       "      <td>28.6</td>\n",
       "    </tr>\n",
       "    <tr>\n",
       "      <th>244</th>\n",
       "      <td>1.630641e+09</td>\n",
       "      <td>0</td>\n",
       "      <td>0</td>\n",
       "      <td>6.0</td>\n",
       "      <td>22.6</td>\n",
       "    </tr>\n",
       "    <tr>\n",
       "      <th>245</th>\n",
       "      <td>1.630641e+09</td>\n",
       "      <td>0</td>\n",
       "      <td>0</td>\n",
       "      <td>6.5</td>\n",
       "      <td>26.2</td>\n",
       "    </tr>\n",
       "    <tr>\n",
       "      <th>246</th>\n",
       "      <td>1.630641e+09</td>\n",
       "      <td>0</td>\n",
       "      <td>0</td>\n",
       "      <td>7.0</td>\n",
       "      <td>28.2</td>\n",
       "    </tr>\n",
       "    <tr>\n",
       "      <th>247</th>\n",
       "      <td>1.630641e+09</td>\n",
       "      <td>0</td>\n",
       "      <td>0</td>\n",
       "      <td>6.5</td>\n",
       "      <td>32.0</td>\n",
       "    </tr>\n",
       "  </tbody>\n",
       "</table>\n",
       "<p>248 rows × 5 columns</p>\n",
       "</div>"
      ],
      "text/plain": [
       "       Epoch time  Latitude  Longitude  Air Quality PM 2.5 (ug/m3)  \\\n",
       "0    1.630638e+09         0          0                         2.0   \n",
       "1    1.630638e+09         0          0                         3.0   \n",
       "2    1.630638e+09         0          0                         3.0   \n",
       "3    1.630638e+09         0          0                         3.0   \n",
       "4    1.630638e+09         0          0                         2.0   \n",
       "..            ...       ...        ...                         ...   \n",
       "243  1.630641e+09         0          0                         5.0   \n",
       "244  1.630641e+09         0          0                         6.0   \n",
       "245  1.630641e+09         0          0                         6.5   \n",
       "246  1.630641e+09         0          0                         7.0   \n",
       "247  1.630641e+09         0          0                         6.5   \n",
       "\n",
       "     Radiation (cps)  \n",
       "0               31.6  \n",
       "1               30.6  \n",
       "2               30.0  \n",
       "3               30.0  \n",
       "4               34.6  \n",
       "..               ...  \n",
       "243             28.6  \n",
       "244             22.6  \n",
       "245             26.2  \n",
       "246             28.2  \n",
       "247             32.0  \n",
       "\n",
       "[248 rows x 5 columns]"
      ]
     },
     "execution_count": 13,
     "metadata": {},
     "output_type": "execute_result"
    }
   ],
   "source": [
    "realData"
   ]
  },
  {
   "cell_type": "code",
   "execution_count": 14,
   "id": "a2675b9f",
   "metadata": {},
   "outputs": [
    {
     "data": {
      "text/html": [
       "<div>\n",
       "<style scoped>\n",
       "    .dataframe tbody tr th:only-of-type {\n",
       "        vertical-align: middle;\n",
       "    }\n",
       "\n",
       "    .dataframe tbody tr th {\n",
       "        vertical-align: top;\n",
       "    }\n",
       "\n",
       "    .dataframe thead th {\n",
       "        text-align: right;\n",
       "    }\n",
       "</style>\n",
       "<table border=\"1\" class=\"dataframe\">\n",
       "  <thead>\n",
       "    <tr style=\"text-align: right;\">\n",
       "      <th></th>\n",
       "      <th>Epoch time</th>\n",
       "      <th>Latitude</th>\n",
       "      <th>Longitude</th>\n",
       "      <th>Air Quality PM 2.5 (ug/m3)</th>\n",
       "      <th>Radiation (cps)</th>\n",
       "    </tr>\n",
       "  </thead>\n",
       "  <tbody>\n",
       "    <tr>\n",
       "      <th>0</th>\n",
       "      <td>1.637359e+09</td>\n",
       "      <td>0</td>\n",
       "      <td>0</td>\n",
       "      <td>4.0</td>\n",
       "      <td>28.4</td>\n",
       "    </tr>\n",
       "    <tr>\n",
       "      <th>1</th>\n",
       "      <td>1.637359e+09</td>\n",
       "      <td>0</td>\n",
       "      <td>0</td>\n",
       "      <td>4.0</td>\n",
       "      <td>29.4</td>\n",
       "    </tr>\n",
       "    <tr>\n",
       "      <th>2</th>\n",
       "      <td>1.637359e+09</td>\n",
       "      <td>0</td>\n",
       "      <td>0</td>\n",
       "      <td>4.0</td>\n",
       "      <td>34.6</td>\n",
       "    </tr>\n",
       "    <tr>\n",
       "      <th>3</th>\n",
       "      <td>1.637359e+09</td>\n",
       "      <td>0</td>\n",
       "      <td>0</td>\n",
       "      <td>4.0</td>\n",
       "      <td>32.4</td>\n",
       "    </tr>\n",
       "    <tr>\n",
       "      <th>4</th>\n",
       "      <td>1.637359e+09</td>\n",
       "      <td>0</td>\n",
       "      <td>0</td>\n",
       "      <td>4.0</td>\n",
       "      <td>28.2</td>\n",
       "    </tr>\n",
       "    <tr>\n",
       "      <th>...</th>\n",
       "      <td>...</td>\n",
       "      <td>...</td>\n",
       "      <td>...</td>\n",
       "      <td>...</td>\n",
       "      <td>...</td>\n",
       "    </tr>\n",
       "    <tr>\n",
       "      <th>150</th>\n",
       "      <td>1.637360e+09</td>\n",
       "      <td>0</td>\n",
       "      <td>0</td>\n",
       "      <td>4.0</td>\n",
       "      <td>23.6</td>\n",
       "    </tr>\n",
       "    <tr>\n",
       "      <th>151</th>\n",
       "      <td>1.637360e+09</td>\n",
       "      <td>0</td>\n",
       "      <td>0</td>\n",
       "      <td>4.0</td>\n",
       "      <td>27.4</td>\n",
       "    </tr>\n",
       "    <tr>\n",
       "      <th>152</th>\n",
       "      <td>1.637360e+09</td>\n",
       "      <td>0</td>\n",
       "      <td>0</td>\n",
       "      <td>4.0</td>\n",
       "      <td>27.8</td>\n",
       "    </tr>\n",
       "    <tr>\n",
       "      <th>153</th>\n",
       "      <td>1.637360e+09</td>\n",
       "      <td>0</td>\n",
       "      <td>0</td>\n",
       "      <td>4.0</td>\n",
       "      <td>31.4</td>\n",
       "    </tr>\n",
       "    <tr>\n",
       "      <th>154</th>\n",
       "      <td>1.637360e+09</td>\n",
       "      <td>0</td>\n",
       "      <td>0</td>\n",
       "      <td>3.0</td>\n",
       "      <td>28.4</td>\n",
       "    </tr>\n",
       "  </tbody>\n",
       "</table>\n",
       "<p>155 rows × 5 columns</p>\n",
       "</div>"
      ],
      "text/plain": [
       "       Epoch time  Latitude  Longitude  Air Quality PM 2.5 (ug/m3)  \\\n",
       "0    1.637359e+09         0          0                         4.0   \n",
       "1    1.637359e+09         0          0                         4.0   \n",
       "2    1.637359e+09         0          0                         4.0   \n",
       "3    1.637359e+09         0          0                         4.0   \n",
       "4    1.637359e+09         0          0                         4.0   \n",
       "..            ...       ...        ...                         ...   \n",
       "150  1.637360e+09         0          0                         4.0   \n",
       "151  1.637360e+09         0          0                         4.0   \n",
       "152  1.637360e+09         0          0                         4.0   \n",
       "153  1.637360e+09         0          0                         4.0   \n",
       "154  1.637360e+09         0          0                         3.0   \n",
       "\n",
       "     Radiation (cps)  \n",
       "0               28.4  \n",
       "1               29.4  \n",
       "2               34.6  \n",
       "3               32.4  \n",
       "4               28.2  \n",
       "..               ...  \n",
       "150             23.6  \n",
       "151             27.4  \n",
       "152             27.8  \n",
       "153             31.4  \n",
       "154             28.4  \n",
       "\n",
       "[155 rows x 5 columns]"
      ]
     },
     "execution_count": 14,
     "metadata": {},
     "output_type": "execute_result"
    }
   ],
   "source": [
    "givenData"
   ]
  },
  {
   "cell_type": "code",
   "execution_count": 15,
   "id": "4c0da30a",
   "metadata": {},
   "outputs": [
    {
     "name": "stderr",
     "output_type": "stream",
     "text": [
      "<ipython-input-15-458a14df1f52>:7: UserWarning: Attempting to set identical left == right == 0 results in singular transformations; automatically expanding.\n",
      "  plt.xlim(minSet, maxSet)\n"
     ]
    },
    {
     "data": {
      "text/plain": [
       "(-0.05, 0.05)"
      ]
     },
     "execution_count": 15,
     "metadata": {},
     "output_type": "execute_result"
    },
    {
     "data": {
      "image/png": "[encoded data removed]",
      "text/plain": [
       "<Figure size 432x288 with 1 Axes>"
      ]
     },
     "metadata": {
      "needs_background": "light"
     },
     "output_type": "display_data"
    }
   ],
   "source": [
    "plt.scatter(x = realData['Latitude'], y = realData['Longitude'])\n",
    "minSet = min(realData['Latitude'])\n",
    "maxSet = max(realData['Latitude'])\n",
    "plt.title('GPS')\n",
    "plt.ylabel('Longitude')\n",
    "plt.xlabel('Latitude')\n",
    "plt.xlim(minSet, maxSet)"
   ]
  },
  {
   "cell_type": "markdown",
   "id": "17f1ea0e",
   "metadata": {},
   "source": [
    "Due to the gps not being able to work, we do not have any datas on the latidue and longitude for our walk.\n",
    "The data provided (map_data_0.csv and map_data_1.csv) also did not have the position datas, thus we could not attain the time/position dependence. We have included the code just in case."
   ]
  },
  {
   "cell_type": "code",
   "execution_count": 19,
   "id": "99c84318",
   "metadata": {},
   "outputs": [
    {
     "data": {
      "image/png": "[encoded data removed]",
      "text/plain": [
       "<Figure size 432x288 with 1 Axes>"
      ]
     },
     "metadata": {
      "needs_background": "light"
     },
     "output_type": "display_data"
    },
    {
     "data": {
      "image/png": "[encoded data removed]",
      "text/plain": [
       "<Figure size 432x288 with 1 Axes>"
      ]
     },
     "metadata": {
      "needs_background": "light"
     },
     "output_type": "display_data"
    }
   ],
   "source": [
    "plt.plot(realData['Radiation (cps)'])\n",
    "plt.title('Radiation/Time')\n",
    "plt.ylabel('Radiation (csv)')\n",
    "plt.xlabel('time (5secs)')\n",
    "plt.show()\n",
    "\n",
    "plt.plot(givenData['Radiation (cps)'])\n",
    "plt.title('Radiation/Time')\n",
    "plt.ylabel('Radiation (csv)')\n",
    "plt.xlabel('time (5secs)')\n",
    "plt.show()"
   ]
  },
  {
   "cell_type": "markdown",
   "id": "e1b64c77",
   "metadata": {},
   "source": [
    "Since we have gotten the data for a longer period of time than the given data, ours are noticeably clustered together. There are not much difference relating to the radiation between the two sets of data."
   ]
  },
  {
   "cell_type": "code",
   "execution_count": 26,
   "id": "d7013a83",
   "metadata": {},
   "outputs": [
    {
     "name": "stdout",
     "output_type": "stream",
     "text": [
      "31.57822580645162\n",
      "3.8605126787202537\n"
     ]
    },
    {
     "data": {
      "image/png": "[encoded data removed]",
      "text/plain": [
       "<Figure size 432x288 with 1 Axes>"
      ]
     },
     "metadata": {
      "needs_background": "light"
     },
     "output_type": "display_data"
    }
   ],
   "source": [
    "plt.hist(realData['Radiation (cps)'], bins = 20)\n",
    "plt.xlabel('Radiation (cps)')\n",
    "plt.ylabel('Frequency')\n",
    "plt.show\n",
    "\n",
    "realMean = np.mean(realData['Radiation (cps)'])\n",
    "realSTD = np.std(realData['Radiation (cps)'])\n",
    "print(realMean)\n",
    "print(realSTD)"
   ]
  },
  {
   "cell_type": "code",
   "execution_count": 27,
   "id": "fb5aae98",
   "metadata": {},
   "outputs": [
    {
     "name": "stdout",
     "output_type": "stream",
     "text": [
      "31.565161290322582\n",
      "4.783420203677821\n"
     ]
    },
    {
     "data": {
      "image/png": "[encoded data removed]",
      "text/plain": [
       "<Figure size 432x288 with 1 Axes>"
      ]
     },
     "metadata": {
      "needs_background": "light"
     },
     "output_type": "display_data"
    }
   ],
   "source": [
    "plt.hist(givenData['Radiation (cps)'], bins = 20)\n",
    "plt.xlabel('Radiation (cps)')\n",
    "plt.ylabel('Frequency')\n",
    "plt.show\n",
    "\n",
    "givenMean = np.mean(givenData['Radiation (cps)'])\n",
    "givenSTD = np.std(givenData['Radiation (cps)'])\n",
    "print(givenMean)\n",
    "print(givenSTD)"
   ]
  },
  {
   "cell_type": "markdown",
   "id": "def2d98a",
   "metadata": {},
   "source": [
    "The two sets of data are similar statistically. The mean are similar up to the hundredth but the standard deviations are a little different maybe because of the given data having less time than our data to collect."
   ]
  },
  {
   "cell_type": "code",
   "execution_count": 30,
   "id": "04aefad7",
   "metadata": {},
   "outputs": [
    {
     "name": "stdout",
     "output_type": "stream",
     "text": [
      "5.6182881102985975\n",
      "5.619450667676657\n"
     ]
    }
   ],
   "source": [
    "realCountStat = np.sqrt(givenMean)\n",
    "givenCountStat = np.sqrt(realMean)\n",
    "print(realCountStat)\n",
    "print(givenCountStat)"
   ]
  },
  {
   "cell_type": "code",
   "execution_count": 31,
   "id": "62d34a3c",
   "metadata": {},
   "outputs": [
    {
     "name": "stdout",
     "output_type": "stream",
     "text": [
      "3.340654097451142\n",
      "3.3413453582039354\n"
     ]
    }
   ],
   "source": [
    "realUncert = (realCountStat)/((np.sqrt(2*np.sqrt(2))))\n",
    "givenUncert = (givenCountStat)/((np.sqrt(2*np.sqrt(2))))\n",
    "print(realUncert)\n",
    "print(givenUncert)"
   ]
  },
  {
   "cell_type": "markdown",
   "id": "de7c0e86",
   "metadata": {},
   "source": [
    "There were not much variance on the our data and the given data. We have expected these statistical datas since the detector was working just fine."
   ]
  },
  {
   "cell_type": "code",
   "execution_count": null,
   "id": "e7e11e47",
   "metadata": {},
   "outputs": [],
   "source": []
  }
 ],
 "metadata": {
  "kernelspec": {
   "display_name": "Python 3",
   "language": "python",
   "name": "python3"
  },
  "language_info": {
   "codemirror_mode": {
    "name": "ipython",
    "version": 3
   },
   "file_extension": ".py",
   "mimetype": "text/x-python",
   "name": "python",
   "nbconvert_exporter": "python",
   "pygments_lexer": "ipython3",
   "version": "3.8.8"
  }
 },
 "nbformat": 4,
 "nbformat_minor": 5
}
